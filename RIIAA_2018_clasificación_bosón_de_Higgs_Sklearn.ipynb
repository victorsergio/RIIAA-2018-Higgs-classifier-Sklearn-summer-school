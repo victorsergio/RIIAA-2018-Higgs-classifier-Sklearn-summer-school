{
  "nbformat": 4,
  "nbformat_minor": 0,
  "metadata": {
    "colab": {
      "name": "RIIAA 2018-clasificación bosón de Higgs-Sklearn.ipynb",
      "version": "0.3.2",
      "provenance": [],
      "collapsed_sections": [],
      "include_colab_link": true
    },
    "kernelspec": {
      "name": "python3",
      "display_name": "Python 3"
    },
    "accelerator": "GPU"
  },
  "cells": [
    {
      "cell_type": "markdown",
      "metadata": {
        "id": "view-in-github",
        "colab_type": "text"
      },
      "source": [
        "<a href=\"https://colab.research.google.com/github/victorsergio/RIIAA-2018-Higgs-classifier-Sklearn-summer-school/blob/master/RIIAA_2018_clasificaci%C3%B3n_bos%C3%B3n_de_Higgs_Sklearn.ipynb\" target=\"_parent\"><img src=\"https://colab.research.google.com/assets/colab-badge.svg\" alt=\"Open In Colab\"/></a>"
      ]
    },
    {
      "cell_type": "markdown",
      "metadata": {
        "id": "V5zIY2gdgqKB",
        "colab_type": "text"
      },
      "source": [
        "**Cargar librerias**"
      ]
    },
    {
      "cell_type": "code",
      "metadata": {
        "id": "75kuTvbCgk2t",
        "colab_type": "code",
        "colab": {}
      },
      "source": [
        "%matplotlib inline\n",
        "%config InlineBackend.figure_format='retina'\n",
        "import matplotlib\n",
        "import matplotlib.pyplot as plt\n",
        "\n",
        "import numpy as np\n",
        "import scipy as sc\n",
        "import pandas as pd\n",
        "import sklearn\n",
        "import matplotlib.pyplot as plt\n",
        "import seaborn as sns\n",
        "import os\n",
        "from IPython.display import display\n",
        "import sys"
      ],
      "execution_count": 0,
      "outputs": []
    },
    {
      "cell_type": "markdown",
      "metadata": {
        "id": "-34S39vohJF_",
        "colab_type": "text"
      },
      "source": [
        "**Metricas**"
      ]
    },
    {
      "cell_type": "code",
      "metadata": {
        "id": "UesFGEoHhLDM",
        "colab_type": "code",
        "colab": {}
      },
      "source": [
        "from sklearn.metrics import roc_curve, auc\n",
        "import sklearn as sk\n",
        "\n",
        "    \n",
        "def AMSScore(s,b): \n",
        "    return np.sqrt (2.*( (s + b + 10.)*np.log(1.+s/(b+10.))-s))\n",
        "\n",
        "def eval_model(Y_true_train,Y_pred_train,w_train,Y_true_test,Y_pred_test,w_test):\n",
        "    ratio =  float(len(X_train)) /float(len(X_test))\n",
        "    TruePositive_train = w_train*(Y_true_train==1.0)*(1.0/ratio)\n",
        "    TrueNegative_train = w_train*(Y_true_train==0.0)*(1.0/ratio)\n",
        "    TruePositive_valid = w_test*(Y_true_test==1.0)*(1.0/(1-ratio))\n",
        "    TrueNegative_valid = w_test*(Y_true_test==0.0)*(1.0/(1-ratio))\n",
        "    s_train = sum ( TruePositive_train*(Y_pred_train==1.0) )\n",
        "    b_train = sum ( TrueNegative_train*(Y_pred_train==1.0) )\n",
        "    s_test = sum ( TruePositive_valid*(Y_pred_test==1.0) )\n",
        "    b_test = sum ( TrueNegative_valid*(Y_pred_test==1.0) )\n",
        "    score_train = AMSScore(s_train,b_train)\n",
        "    score_test = AMSScore(s_test,b_test)\n",
        "    print('--- Resultados --')\n",
        "    print('- AUC train: {:.3f} '.format(sk.metrics.roc_auc_score(Y_train,Y_train_pred)))\n",
        "    print('- AUC test : {:.3f} '.format(sk.metrics.roc_auc_score(Y_test,Y_test_pred)))\n",
        "    print('- AMS train: {:.3f} sigma'.format(score_train))\n",
        "    print('- AMS test : {:.3f} sigma'.format(score_test))\n",
        "    return score_train, score_test\n",
        "\n",
        "def plot_roc(clf,Y_test,Y_test_prob):\n",
        "    fpr, tpr, thresholds = roc_curve(Y_test, Y_test_prob)\n",
        "    roc_auc = auc(fpr, tpr)\n",
        "    plt.plot(fpr, tpr, lw=1, alpha=0.3, label=str(clf.__class__.__name__))\n",
        "    plt.plot(np.linspace(0,1,100),np.linspace(0,1,100), lw=2, alpha=0.3, label='Suerte')\n",
        "    plt.legend(loc='lower right')\n",
        "    plt.xlim([0,1])\n",
        "    plt.ylim([0,1])\n",
        "    plt.tight_layout()\n",
        "    return"
      ],
      "execution_count": 0,
      "outputs": []
    },
    {
      "cell_type": "markdown",
      "metadata": {
        "id": "5E2PnPllhQlL",
        "colab_type": "text"
      },
      "source": [
        "**Datos**"
      ]
    },
    {
      "cell_type": "code",
      "metadata": {
        "id": "17eCeoWohTKx",
        "colab_type": "code",
        "outputId": "21ff3883-aa30-4b03-9a98-a304e571bb25",
        "colab": {
          "base_uri": "https://localhost:8080/",
          "height": 304
        }
      },
      "source": [
        "!wget https://raw.githubusercontent.com/beangoben/RIIAA_Escuela18/master/datos/training.csv\n",
        "\n",
        "df=pd.read_csv('training.csv')\n",
        "print(df.shape)\n",
        "df.head(1)"
      ],
      "execution_count": 3,
      "outputs": [
        {
          "output_type": "stream",
          "text": [
            "--2019-08-05 14:55:02--  https://raw.githubusercontent.com/beangoben/RIIAA_Escuela18/master/datos/training.csv\n",
            "Resolving raw.githubusercontent.com (raw.githubusercontent.com)... 151.101.0.133, 151.101.64.133, 151.101.128.133, ...\n",
            "Connecting to raw.githubusercontent.com (raw.githubusercontent.com)|151.101.0.133|:443... connected.\n",
            "HTTP request sent, awaiting response... 200 OK\n",
            "Length: 55253673 (53M) [text/plain]\n",
            "Saving to: ‘training.csv.3’\n",
            "\n",
            "training.csv.3      100%[===================>]  52.69M   191MB/s    in 0.3s    \n",
            "\n",
            "2019-08-05 14:55:03 (191 MB/s) - ‘training.csv.3’ saved [55253673/55253673]\n",
            "\n",
            "(250000, 33)\n"
          ],
          "name": "stdout"
        },
        {
          "output_type": "execute_result",
          "data": {
            "text/html": [
              "<div>\n",
              "<style scoped>\n",
              "    .dataframe tbody tr th:only-of-type {\n",
              "        vertical-align: middle;\n",
              "    }\n",
              "\n",
              "    .dataframe tbody tr th {\n",
              "        vertical-align: top;\n",
              "    }\n",
              "\n",
              "    .dataframe thead th {\n",
              "        text-align: right;\n",
              "    }\n",
              "</style>\n",
              "<table border=\"1\" class=\"dataframe\">\n",
              "  <thead>\n",
              "    <tr style=\"text-align: right;\">\n",
              "      <th></th>\n",
              "      <th>EventId</th>\n",
              "      <th>DER_mass_MMC</th>\n",
              "      <th>DER_mass_transverse_met_lep</th>\n",
              "      <th>DER_mass_vis</th>\n",
              "      <th>DER_pt_h</th>\n",
              "      <th>DER_deltaeta_jet_jet</th>\n",
              "      <th>DER_mass_jet_jet</th>\n",
              "      <th>DER_prodeta_jet_jet</th>\n",
              "      <th>DER_deltar_tau_lep</th>\n",
              "      <th>DER_pt_tot</th>\n",
              "      <th>DER_sum_pt</th>\n",
              "      <th>DER_pt_ratio_lep_tau</th>\n",
              "      <th>DER_met_phi_centrality</th>\n",
              "      <th>DER_lep_eta_centrality</th>\n",
              "      <th>PRI_tau_pt</th>\n",
              "      <th>PRI_tau_eta</th>\n",
              "      <th>PRI_tau_phi</th>\n",
              "      <th>PRI_lep_pt</th>\n",
              "      <th>PRI_lep_eta</th>\n",
              "      <th>PRI_lep_phi</th>\n",
              "      <th>PRI_met</th>\n",
              "      <th>PRI_met_phi</th>\n",
              "      <th>PRI_met_sumet</th>\n",
              "      <th>PRI_jet_num</th>\n",
              "      <th>PRI_jet_leading_pt</th>\n",
              "      <th>PRI_jet_leading_eta</th>\n",
              "      <th>PRI_jet_leading_phi</th>\n",
              "      <th>PRI_jet_subleading_pt</th>\n",
              "      <th>PRI_jet_subleading_eta</th>\n",
              "      <th>PRI_jet_subleading_phi</th>\n",
              "      <th>PRI_jet_all_pt</th>\n",
              "      <th>Weight</th>\n",
              "      <th>Label</th>\n",
              "    </tr>\n",
              "  </thead>\n",
              "  <tbody>\n",
              "    <tr>\n",
              "      <th>0</th>\n",
              "      <td>100000</td>\n",
              "      <td>138.47</td>\n",
              "      <td>51.655</td>\n",
              "      <td>97.827</td>\n",
              "      <td>27.98</td>\n",
              "      <td>0.91</td>\n",
              "      <td>124.711</td>\n",
              "      <td>2.666</td>\n",
              "      <td>3.064</td>\n",
              "      <td>41.928</td>\n",
              "      <td>197.76</td>\n",
              "      <td>1.582</td>\n",
              "      <td>1.396</td>\n",
              "      <td>0.2</td>\n",
              "      <td>32.638</td>\n",
              "      <td>1.017</td>\n",
              "      <td>0.381</td>\n",
              "      <td>51.626</td>\n",
              "      <td>2.273</td>\n",
              "      <td>-2.414</td>\n",
              "      <td>16.824</td>\n",
              "      <td>-0.277</td>\n",
              "      <td>258.733</td>\n",
              "      <td>2</td>\n",
              "      <td>67.435</td>\n",
              "      <td>2.15</td>\n",
              "      <td>0.444</td>\n",
              "      <td>46.062</td>\n",
              "      <td>1.24</td>\n",
              "      <td>-2.475</td>\n",
              "      <td>113.497</td>\n",
              "      <td>0.002653</td>\n",
              "      <td>s</td>\n",
              "    </tr>\n",
              "  </tbody>\n",
              "</table>\n",
              "</div>"
            ],
            "text/plain": [
              "   EventId  DER_mass_MMC  ...    Weight  Label\n",
              "0   100000        138.47  ...  0.002653      s\n",
              "\n",
              "[1 rows x 33 columns]"
            ]
          },
          "metadata": {
            "tags": []
          },
          "execution_count": 3
        }
      ]
    },
    {
      "cell_type": "markdown",
      "metadata": {
        "id": "J33BxKh6hqPI",
        "colab_type": "text"
      },
      "source": [
        "**Preprocesamiento para X y Y**\n",
        "\n",
        "Utilicé random_state para que en la division de los set se seleccionen los elementos de los grupos de forma aleatoria."
      ]
    },
    {
      "cell_type": "code",
      "metadata": {
        "id": "tprhFrXQht2e",
        "colab_type": "code",
        "colab": {}
      },
      "source": [
        "Y = df['Label'].replace(to_replace=['s','b'],value=[1,0]).values\n",
        "weights = df['Weight'].values\n",
        "X = df.drop(['EventId','Label','Weight'],axis=1).values\n",
        "\n"
      ],
      "execution_count": 0,
      "outputs": []
    },
    {
      "cell_type": "code",
      "metadata": {
        "id": "7y8t4sP-r0Uy",
        "colab_type": "code",
        "outputId": "0a1d4389-2b5c-4522-cd1b-467d5dd3b4d1",
        "colab": {
          "base_uri": "https://localhost:8080/",
          "height": 51
        }
      },
      "source": [
        "from sklearn.model_selection import train_test_split\n",
        "X_train,X_test,Y_train,Y_test,w_train,w_test = train_test_split(X,Y,weights,random_state=42,train_size=0.3)\n",
        "print(X_train.shape,Y_train.shape,w_train.shape)\n",
        "print(X_test.shape,Y_test.shape,w_test.shape)"
      ],
      "execution_count": 5,
      "outputs": [
        {
          "output_type": "stream",
          "text": [
            "(75000, 30) (75000,) (75000,)\n",
            "(175000, 30) (175000,) (175000,)\n"
          ],
          "name": "stdout"
        }
      ]
    },
    {
      "cell_type": "markdown",
      "metadata": {
        "id": "7xE6slybiPSF",
        "colab_type": "text"
      },
      "source": [
        "**ML con SKLearn**"
      ]
    },
    {
      "cell_type": "code",
      "metadata": {
        "id": "FHAjQafJnEHr",
        "colab_type": "code",
        "outputId": "3278fabf-ed66-4ec9-b5f8-9505b56acea6",
        "colab": {
          "base_uri": "https://localhost:8080/",
          "height": 714
        }
      },
      "source": [
        "from sklearn.preprocessing import PolynomialFeatures\n",
        "from sklearn.pipeline import Pipeline\n",
        "from sklearn.preprocessing import StandardScaler\n",
        "from sklearn.ensemble import GradientBoostingClassifier\n",
        "\n",
        "f = [('escalar', StandardScaler()),('polinomial', PolynomialFeatures(degree=2)),\n",
        "    ('modelo', GradientBoostingClassifier(validation_fraction=0.2, n_iter_no_change=5, tol=0.01, n_estimators=1500, learning_rate=0.01,max_depth=10, random_state=0,verbose=1,subsample=0.7))]\n",
        "\n",
        "\n",
        "\n",
        "pipeline = Pipeline(f)\n",
        "pipeline.fit(X_train, Y_train)"
      ],
      "execution_count": 6,
      "outputs": [
        {
          "output_type": "stream",
          "text": [
            "      Iter       Train Loss      OOB Improve   Remaining Time \n",
            "         1           1.2765           0.0091          618.13m\n",
            "         2           1.2695           0.0088          682.80m\n",
            "         3           1.2588           0.0086          712.69m\n",
            "         4           1.2456           0.0085          728.64m\n",
            "         5           1.2377           0.0083          743.46m\n",
            "         6           1.2280           0.0082          749.82m\n",
            "         7           1.2198           0.0081          756.63m\n",
            "         8           1.2127           0.0077          760.50m\n",
            "         9           1.2003           0.0075          764.05m\n",
            "        10           1.1904           0.0075          761.11m\n",
            "        20           1.1131           0.0062          783.16m\n",
            "        30           1.0459           0.0051          784.79m\n",
            "        40           0.9867           0.0043          782.10m\n",
            "        50           0.9407           0.0037          780.59m\n",
            "        60           0.8950           0.0031          777.49m\n",
            "        70           0.8531           0.0027          772.57m\n",
            "        80           0.8203           0.0023          767.31m\n",
            "        90           0.7887           0.0020          761.45m\n"
          ],
          "name": "stdout"
        },
        {
          "output_type": "execute_result",
          "data": {
            "text/plain": [
              "Pipeline(memory=None,\n",
              "         steps=[('escalar',\n",
              "                 StandardScaler(copy=True, with_mean=True, with_std=True)),\n",
              "                ('polinomial',\n",
              "                 PolynomialFeatures(degree=2, include_bias=True,\n",
              "                                    interaction_only=False, order='C')),\n",
              "                ('modelo',\n",
              "                 GradientBoostingClassifier(criterion='friedman_mse', init=None,\n",
              "                                            learning_rate=0.01, loss='deviance',\n",
              "                                            max_depth=10, max_features=None,\n",
              "                                            max_leaf_nodes=None,\n",
              "                                            min_impurity_decrease=0.0,\n",
              "                                            min_impurity_split=None,\n",
              "                                            min_samples_leaf=1,\n",
              "                                            min_samples_split=2,\n",
              "                                            min_weight_fraction_leaf=0.0,\n",
              "                                            n_estimators=1500,\n",
              "                                            n_iter_no_change=5, presort='auto',\n",
              "                                            random_state=0, subsample=0.7,\n",
              "                                            tol=0.01, validation_fraction=0.2,\n",
              "                                            verbose=1, warm_start=False))],\n",
              "         verbose=False)"
            ]
          },
          "metadata": {
            "tags": []
          },
          "execution_count": 6
        }
      ]
    },
    {
      "cell_type": "markdown",
      "metadata": {
        "id": "q2FTgBKnTD5F",
        "colab_type": "text"
      },
      "source": [
        "**Predicciones**"
      ]
    },
    {
      "cell_type": "code",
      "metadata": {
        "id": "aARn8xbmnELW",
        "colab_type": "code",
        "colab": {}
      },
      "source": [
        "Y_train_pred = pipeline.predict(X_train)\n",
        "Y_test_pred = pipeline.predict(X_test)\n",
        "Y_train_prob=pipeline.predict_proba(X_train)[:,1]\n",
        "Y_test_prob =pipeline.predict_proba(X_test)[:,1]\n",
        "\n",
        "\n"
      ],
      "execution_count": 0,
      "outputs": []
    },
    {
      "cell_type": "markdown",
      "metadata": {
        "id": "VXoTAsXoV8wF",
        "colab_type": "text"
      },
      "source": [
        "**Punto de corte**"
      ]
    },
    {
      "cell_type": "code",
      "metadata": {
        "id": "_fuIPw-5-SXA",
        "colab_type": "code",
        "outputId": "618286e2-299f-4a19-e6f5-098f854682da",
        "colab": {
          "base_uri": "https://localhost:8080/",
          "height": 267
        }
      },
      "source": [
        "sns.distplot(Y_train_prob)\n",
        "plt.show()\n"
      ],
      "execution_count": 8,
      "outputs": [
        {
          "output_type": "display_data",
          "data": {
            "image/png": "[encoded data removed]",
            "text/plain": [
              "<Figure size 432x288 with 1 Axes>"
            ]
          },
          "metadata": {
            "tags": [],
            "image/png": {
              "width": 370,
              "height": 250
            }
          }
        }
      ]
    },
    {
      "cell_type": "code",
      "metadata": {
        "id": "Alm90tFz-Z85",
        "colab_type": "code",
        "colab": {}
      },
      "source": [
        "#pcut = np.percentile(Y_train_prob,85)\n",
        "#pcut\n",
        "\n",
        "#Y_train_pred = Y_train_prob > pcut \n",
        "#Y_test_pred = Y_test_prob > pcut\n",
        "\n",
        "\n"
      ],
      "execution_count": 0,
      "outputs": []
    },
    {
      "cell_type": "code",
      "metadata": {
        "id": "nuEuNfb0EqS-",
        "colab_type": "code",
        "outputId": "44aca31b-30d6-464a-9c7b-5de427cefd3e",
        "colab": {
          "base_uri": "https://localhost:8080/",
          "height": 119
        }
      },
      "source": [
        "eval_model(Y_train,Y_train_pred,w_train,Y_test,Y_test_pred,w_test)"
      ],
      "execution_count": 9,
      "outputs": [
        {
          "output_type": "stream",
          "text": [
            "--- Resultados --\n",
            "- AUC train: 0.824 \n",
            "- AUC test : 0.781 \n",
            "- AMS train: 3.239 sigma\n",
            "- AMS test : 3.326 sigma\n"
          ],
          "name": "stdout"
        },
        {
          "output_type": "execute_result",
          "data": {
            "text/plain": [
              "(3.2385840364787537, 3.325962006685642)"
            ]
          },
          "metadata": {
            "tags": []
          },
          "execution_count": 9
        }
      ]
    },
    {
      "cell_type": "code",
      "metadata": {
        "id": "MSS6kltTkoN-",
        "colab_type": "code",
        "outputId": "799468a0-1747-40bf-fe36-2d0a46e683fd",
        "colab": {
          "base_uri": "https://localhost:8080/",
          "height": 296
        }
      },
      "source": [
        "from sklearn.metrics import roc_curve, auc\n",
        "\n",
        "fpr, tpr, thresholds = roc_curve(Y_test, Y_test_prob)\n",
        "roc_auc = auc(fpr, tpr)\n",
        "plt.plot(fpr, tpr, lw=1, alpha=0.3, label=str(''))\n",
        "plt.plot(np.linspace(0,1,100),np.linspace(0,1,100), lw=2, alpha=0.3, label='Suerte')\n",
        "plt.legend(loc='lower right')\n",
        "plt.xlim([0,1])\n",
        "plt.ylim([0,1])\n",
        "plt.xlabel('Falsos Positivos')\n",
        "plt.ylabel('Falsos Negativos')\n",
        "plt.tight_layout()\n",
        "plt.show()"
      ],
      "execution_count": 10,
      "outputs": [
        {
          "output_type": "display_data",
          "data": {
            "image/png": "[encoded data removed]",
            "text/plain": [
              "<Figure size 432x288 with 1 Axes>"
            ]
          },
          "metadata": {
            "tags": [],
            "image/png": {
              "width": 424,
              "height": 279
            }
          }
        }
      ]
    }
  ]
}